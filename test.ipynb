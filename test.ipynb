{
 "cells": [
  {
   "cell_type": "code",
   "execution_count": 59,
   "id": "initial_id",
   "metadata": {
    "collapsed": true,
    "ExecuteTime": {
     "end_time": "2023-10-14T02:35:28.186176900Z",
     "start_time": "2023-10-14T02:35:28.016314500Z"
    }
   },
   "outputs": [],
   "source": [
    "import numpy as np\n",
    "from PIL import Image\n",
    "from torchvision.transforms import functional as F\n",
    "from pathlib import Path\n",
    "from natsort import natsorted\n",
    "from utils import save_colored_mask"
   ]
  },
  {
   "cell_type": "code",
   "execution_count": 25,
   "outputs": [],
   "source": [
    "output_dir = Path(r'./output')\n",
    "image = Path(r'D:\\datasets\\yq-tech\\data\\image\\390.png')\n",
    "img = Image.open(image)"
   ],
   "metadata": {
    "collapsed": false,
    "ExecuteTime": {
     "end_time": "2023-10-08T01:08:56.193350900Z",
     "start_time": "2023-10-08T01:08:56.162103200Z"
    }
   },
   "id": "4a256ef9b4102a73"
  },
  {
   "cell_type": "code",
   "execution_count": 62,
   "outputs": [],
   "source": [
    "# 设置一下调整参数和输出路径\n",
    "contrast_factor = [0.6, 1.5, 2, -0.6, -1.5, -2]\n",
    "operation = 'adjust_contrast'\n",
    "for factor in contrast_factor:\n",
    "    deal_img = F.adjust_contrast(img, factor)\n",
    "    output_path = output_dir.joinpath(f\"{operation}_{factor}.png\")\n",
    "    deal_img.save(output_path)"
   ],
   "metadata": {
    "collapsed": false,
    "ExecuteTime": {
     "end_time": "2023-10-08T01:29:41.096416300Z",
     "start_time": "2023-10-08T01:29:38.540845200Z"
    }
   },
   "id": "952bbefb824711a6"
  },
  {
   "cell_type": "code",
   "execution_count": 74,
   "outputs": [],
   "source": [
    "brightness_factor = [0.6, 0.8, 1.2, 1.4, 1.6, 2]\n",
    "operation = 'adjust_brightness'\n",
    "for factor in brightness_factor:\n",
    "    deal_img = F.adjust_brightness(img, factor)\n",
    "    output_path = output_dir.joinpath(f\"{operation}_{factor}.png\")\n",
    "    deal_img.save(output_path)"
   ],
   "metadata": {
    "collapsed": false,
    "ExecuteTime": {
     "end_time": "2023-10-08T01:43:55.858223300Z",
     "start_time": "2023-10-08T01:43:53.504890900Z"
    }
   },
   "id": "e467cb56ac111111"
  },
  {
   "cell_type": "code",
   "execution_count": 83,
   "outputs": [],
   "source": [
    "saturation_factor = [0.6, 1.5, 2, -0.6, -1.5, -2]\n",
    "operation = 'adjust_saturation'\n",
    "for factor in saturation_factor:\n",
    "    deal_img = F.adjust_saturation(img, factor)\n",
    "    output_path = output_dir.joinpath(f\"{operation}_{factor}.png\")\n",
    "    deal_img.save(output_path)"
   ],
   "metadata": {
    "collapsed": false,
    "ExecuteTime": {
     "end_time": "2023-10-08T01:50:40.742563900Z",
     "start_time": "2023-10-08T01:50:38.428568700Z"
    }
   },
   "id": "1e857480cc282f07"
  },
  {
   "cell_type": "code",
   "execution_count": 6,
   "outputs": [],
   "source": [
    "mask = Path(r'18_mask.png')\n",
    "m = Image.open(mask)"
   ],
   "metadata": {
    "collapsed": false,
    "ExecuteTime": {
     "end_time": "2023-10-10T01:03:11.749330800Z",
     "start_time": "2023-10-10T01:03:11.723521900Z"
    }
   },
   "id": "a3f7f1484d2efc07"
  },
  {
   "cell_type": "code",
   "execution_count": 46,
   "outputs": [],
   "source": [
    "target_list = natsorted(list(Path(r'D:\\datasets\\Massachusetts_Dataset\\road mask').glob('*.png')))\n",
    "mask_list = natsorted(list(Path(r'D:\\datasets\\Massachusetts_Dataset\\palette-mask').glob('*.png')))"
   ],
   "metadata": {
    "collapsed": false,
    "ExecuteTime": {
     "end_time": "2023-10-14T02:29:31.198375300Z",
     "start_time": "2023-10-14T02:29:31.128386600Z"
    }
   },
   "id": "df798a052c6d8559"
  },
  {
   "cell_type": "code",
   "execution_count": 68,
   "outputs": [],
   "source": [
    "al_map = [\n",
    "    (0, 0, 0),  # 黑色 未识别\n",
    "    (0, 128, 0),  # 林地\n",
    "    (128, 0, 0),  # 种植地\n",
    "    (96, 0, 0),  # 水体\n",
    "    (0, 0, 255),  # 建筑物\n",
    "    (128, 0, 128),  # 道路\n",
    "    (191, 0, 0),  # 硬化地表\n",
    "    (128, 128, 128),  # 裸地\n",
    "    (128, 128, 0),  # 草地\n",
    "    (105, 105, 105)  # 浅灰色 其他\n",
    "]"
   ],
   "metadata": {
    "collapsed": false,
    "ExecuteTime": {
     "end_time": "2023-10-14T04:35:22.224540500Z",
     "start_time": "2023-10-14T04:35:22.209026800Z"
    }
   },
   "id": "592120c30e23450f"
  },
  {
   "cell_type": "code",
   "execution_count": 72,
   "outputs": [],
   "source": [
    "idx = 0\n",
    "replace_label = 5\n",
    "target_label = 1\n",
    "target_mask = np.asarray(Image.open(target_list[idx]))\n",
    "mask = np.asarray(Image.open(mask_list[idx])).copy()"
   ],
   "metadata": {
    "collapsed": false,
    "ExecuteTime": {
     "end_time": "2023-10-14T04:36:03.172433300Z",
     "start_time": "2023-10-14T04:36:03.138691700Z"
    }
   },
   "id": "86b96f260ccb662"
  },
  {
   "cell_type": "code",
   "execution_count": 73,
   "outputs": [],
   "source": [
    "# 消除mask的原目标标签\n",
    "locations = mask == replace_label\n",
    "mask[locations] = 0\n",
    "# 写入目标mask的标签\n",
    "locations = target_mask == target_label\n",
    "mask[locations] = replace_label"
   ],
   "metadata": {
    "collapsed": false,
    "ExecuteTime": {
     "end_time": "2023-10-14T04:36:04.227138300Z",
     "start_time": "2023-10-14T04:36:04.208126500Z"
    }
   },
   "id": "c21fe690f35831f0"
  },
  {
   "cell_type": "code",
   "execution_count": 74,
   "outputs": [],
   "source": [
    "save_colored_mask(mask, Path(r'D:\\datasets\\Massachusetts_Dataset\\temp\\1.png'), al_map)"
   ],
   "metadata": {
    "collapsed": false,
    "ExecuteTime": {
     "end_time": "2023-10-14T04:36:08.269541500Z",
     "start_time": "2023-10-14T04:36:08.198488Z"
    }
   },
   "id": "cf5090a6fff6d665"
  },
  {
   "cell_type": "code",
   "execution_count": null,
   "outputs": [],
   "source": [],
   "metadata": {
    "collapsed": false
   },
   "id": "c67f27cf4628a562"
  }
 ],
 "metadata": {
  "kernelspec": {
   "display_name": "Python 3",
   "language": "python",
   "name": "python3"
  },
  "language_info": {
   "codemirror_mode": {
    "name": "ipython",
    "version": 2
   },
   "file_extension": ".py",
   "mimetype": "text/x-python",
   "name": "python",
   "nbconvert_exporter": "python",
   "pygments_lexer": "ipython2",
   "version": "2.7.6"
  }
 },
 "nbformat": 4,
 "nbformat_minor": 5
}
