{
 "cells": [
  {
   "cell_type": "code",
   "execution_count": 1,
   "id": "initial_id",
   "metadata": {
    "collapsed": true,
    "ExecuteTime": {
     "end_time": "2023-10-10T01:01:33.297410200Z",
     "start_time": "2023-10-10T01:01:30.287223500Z"
    }
   },
   "outputs": [],
   "source": [
    "import numpy as np\n",
    "from PIL import Image\n",
    "from torchvision.transforms import functional as F\n",
    "from pathlib import Path"
   ]
  },
  {
   "cell_type": "code",
   "execution_count": 25,
   "outputs": [],
   "source": [
    "output_dir = Path(r'./output')\n",
    "image = Path(r'D:\\datasets\\yq-tech\\data\\image\\390.png')\n",
    "img = Image.open(image)"
   ],
   "metadata": {
    "collapsed": false,
    "ExecuteTime": {
     "end_time": "2023-10-08T01:08:56.193350900Z",
     "start_time": "2023-10-08T01:08:56.162103200Z"
    }
   },
   "id": "4a256ef9b4102a73"
  },
  {
   "cell_type": "code",
   "execution_count": 62,
   "outputs": [],
   "source": [
    "# 设置一下调整参数和输出路径\n",
    "contrast_factor = [0.6, 1.5, 2, -0.6, -1.5, -2]\n",
    "operation = 'adjust_contrast'\n",
    "for factor in contrast_factor:\n",
    "    deal_img = F.adjust_contrast(img, factor)\n",
    "    output_path = output_dir.joinpath(f\"{operation}_{factor}.png\")\n",
    "    deal_img.save(output_path)"
   ],
   "metadata": {
    "collapsed": false,
    "ExecuteTime": {
     "end_time": "2023-10-08T01:29:41.096416300Z",
     "start_time": "2023-10-08T01:29:38.540845200Z"
    }
   },
   "id": "952bbefb824711a6"
  },
  {
   "cell_type": "code",
   "execution_count": 74,
   "outputs": [],
   "source": [
    "brightness_factor = [0.6, 0.8, 1.2, 1.4, 1.6, 2]\n",
    "operation = 'adjust_brightness'\n",
    "for factor in brightness_factor:\n",
    "    deal_img = F.adjust_brightness(img, factor)\n",
    "    output_path = output_dir.joinpath(f\"{operation}_{factor}.png\")\n",
    "    deal_img.save(output_path)"
   ],
   "metadata": {
    "collapsed": false,
    "ExecuteTime": {
     "end_time": "2023-10-08T01:43:55.858223300Z",
     "start_time": "2023-10-08T01:43:53.504890900Z"
    }
   },
   "id": "e467cb56ac111111"
  },
  {
   "cell_type": "code",
   "execution_count": 83,
   "outputs": [],
   "source": [
    "saturation_factor = [0.6, 1.5, 2, -0.6, -1.5, -2]\n",
    "operation = 'adjust_saturation'\n",
    "for factor in saturation_factor:\n",
    "    deal_img = F.adjust_saturation(img, factor)\n",
    "    output_path = output_dir.joinpath(f\"{operation}_{factor}.png\")\n",
    "    deal_img.save(output_path)"
   ],
   "metadata": {
    "collapsed": false,
    "ExecuteTime": {
     "end_time": "2023-10-08T01:50:40.742563900Z",
     "start_time": "2023-10-08T01:50:38.428568700Z"
    }
   },
   "id": "1e857480cc282f07"
  },
  {
   "cell_type": "code",
   "execution_count": 6,
   "outputs": [],
   "source": [
    "mask = Path(r'18_mask.png')\n",
    "m = Image.open(mask)"
   ],
   "metadata": {
    "collapsed": false,
    "ExecuteTime": {
     "end_time": "2023-10-10T01:03:11.749330800Z",
     "start_time": "2023-10-10T01:03:11.723521900Z"
    }
   },
   "id": "a3f7f1484d2efc07"
  },
  {
   "cell_type": "code",
   "execution_count": 7,
   "outputs": [],
   "source": [
    "mask_data = np.asarray(m)"
   ],
   "metadata": {
    "collapsed": false,
    "ExecuteTime": {
     "end_time": "2023-10-10T01:03:12.592697300Z",
     "start_time": "2023-10-10T01:03:12.518886100Z"
    }
   },
   "id": "df798a052c6d8559"
  },
  {
   "cell_type": "code",
   "execution_count": 8,
   "outputs": [
    {
     "data": {
      "text/plain": "(5000, 5000)"
     },
     "execution_count": 8,
     "metadata": {},
     "output_type": "execute_result"
    }
   ],
   "source": [
    "mask_data.shape"
   ],
   "metadata": {
    "collapsed": false,
    "ExecuteTime": {
     "end_time": "2023-10-10T01:03:13.189774400Z",
     "start_time": "2023-10-10T01:03:13.161119800Z"
    }
   },
   "id": "a4bacc609687e8be"
  },
  {
   "cell_type": "code",
   "execution_count": 6,
   "outputs": [],
   "source": [
    "new_mask_data = mask_data[:, :, :3]"
   ],
   "metadata": {
    "collapsed": false,
    "ExecuteTime": {
     "end_time": "2023-10-08T06:19:33.980122300Z",
     "start_time": "2023-10-08T06:19:33.980122300Z"
    }
   },
   "id": "44822f5ca3e37b0c"
  },
  {
   "cell_type": "code",
   "execution_count": 8,
   "outputs": [
    {
     "data": {
      "text/plain": "(1500, 1500, 3)"
     },
     "execution_count": 8,
     "metadata": {},
     "output_type": "execute_result"
    }
   ],
   "source": [
    "new_mask_data.shape"
   ],
   "metadata": {
    "collapsed": false,
    "ExecuteTime": {
     "end_time": "2023-10-08T06:19:41.244684Z",
     "start_time": "2023-10-08T06:19:41.244171900Z"
    }
   },
   "id": "458df784b306ffb7"
  },
  {
   "cell_type": "code",
   "execution_count": 9,
   "outputs": [],
   "source": [
    "new_mask = Image.fromarray(new_mask_data)"
   ],
   "metadata": {
    "collapsed": false,
    "ExecuteTime": {
     "end_time": "2023-10-08T06:19:58.872024800Z",
     "start_time": "2023-10-08T06:19:58.807938500Z"
    }
   },
   "id": "26453be75fd491e"
  },
  {
   "cell_type": "code",
   "execution_count": 11,
   "outputs": [],
   "source": [
    "new_mask.save('mask.png')"
   ],
   "metadata": {
    "collapsed": false,
    "ExecuteTime": {
     "end_time": "2023-10-08T06:20:26.295163600Z",
     "start_time": "2023-10-08T06:20:26.218366200Z"
    }
   },
   "id": "a2f4246bb1dd8fdc"
  }
 ],
 "metadata": {
  "kernelspec": {
   "display_name": "Python 3",
   "language": "python",
   "name": "python3"
  },
  "language_info": {
   "codemirror_mode": {
    "name": "ipython",
    "version": 2
   },
   "file_extension": ".py",
   "mimetype": "text/x-python",
   "name": "python",
   "nbconvert_exporter": "python",
   "pygments_lexer": "ipython2",
   "version": "2.7.6"
  }
 },
 "nbformat": 4,
 "nbformat_minor": 5
}
